{
 "cells": [
  {
   "cell_type": "code",
   "execution_count": 35,
   "metadata": {},
   "outputs": [],
   "source": [
    "import cv2\n",
    "import numpy as np"
   ]
  },
  {
   "cell_type": "code",
   "execution_count": 36,
   "metadata": {},
   "outputs": [],
   "source": [
    "# Load the satellite image\n",
    "image_path = 'San Isidro.png'\n",
    "satellite_image = cv2.imread(image_path, cv2.IMREAD_UNCHANGED)\n",
    "hsv_image = cv2.cvtColor(satellite_image, cv2.COLOR_BGR2HSV)"
   ]
  },
  {
   "cell_type": "code",
   "execution_count": 37,
   "metadata": {},
   "outputs": [],
   "source": [
    "lower_green = np.array([35, 50, 50])\n",
    "upper_green = np.array([90, 255, 255])\n",
    "green_mask = cv2.inRange(hsv_image, lower_green, upper_green)"
   ]
  },
  {
   "cell_type": "code",
   "execution_count": 38,
   "metadata": {},
   "outputs": [
    {
     "name": "stdout",
     "output_type": "stream",
     "text": [
      "Number of transparent pixels: 396712\n"
     ]
    }
   ],
   "source": [
    "# Check if the image has an alpha channel\n",
    "if satellite_image.shape[2] == 4:\n",
    "    # Extract the alpha channel\n",
    "    alpha_channel = satellite_image[:, :, 3]\n",
    "\n",
    "    # Count transparent pixels (where alpha value is 0)\n",
    "    transparent_pixels = np.sum(alpha_channel == 0)\n",
    "\n",
    "    print(f\"Number of transparent pixels: {transparent_pixels}\")\n",
    "else:\n",
    "    print(\"The input image does not have an alpha channel.\")"
   ]
  },
  {
   "cell_type": "code",
   "execution_count": 39,
   "metadata": {},
   "outputs": [
    {
     "name": "stdout",
     "output_type": "stream",
     "text": [
      "Percentage of greenery: 0.48%\n"
     ]
    }
   ],
   "source": [
    "# Calculate the total number of pixels in the image\n",
    "total_pixels = green_mask.size\n",
    "\n",
    "# Count the number of green pixels\n",
    "green_pixels = cv2.countNonZero(green_mask)\n",
    "\n",
    "# Calculate the percentage of greenery\n",
    "greenery_percentage = (green_pixels / (total_pixels-transparent_pixels)) * 100\n",
    "\n",
    "print(f\"Percentage of greenery: {greenery_percentage:.2f}%\")\n"
   ]
  },
  {
   "cell_type": "code",
   "execution_count": 40,
   "metadata": {},
   "outputs": [
    {
     "data": {
      "text/plain": [
       "True"
      ]
     },
     "execution_count": 40,
     "metadata": {},
     "output_type": "execute_result"
    }
   ],
   "source": [
    "# Overlay the greenery mask back onto the original image\n",
    "result = cv2.bitwise_and(satellite_image, satellite_image, mask=green_mask)\n",
    "\n",
    "# Display the result\n",
    "cv2.imshow('Greenery Detection', result)\n",
    "cv2.waitKey(0)\n",
    "cv2.destroyAllWindows()\n",
    "\n",
    "cv2.imwrite(image_path+\"_mask.png\", result)"
   ]
  }
 ],
 "metadata": {
  "kernelspec": {
   "display_name": "base",
   "language": "python",
   "name": "python3"
  },
  "language_info": {
   "codemirror_mode": {
    "name": "ipython",
    "version": 3
   },
   "file_extension": ".py",
   "mimetype": "text/x-python",
   "name": "python",
   "nbconvert_exporter": "python",
   "pygments_lexer": "ipython3",
   "version": "3.11.5"
  },
  "orig_nbformat": 4
 },
 "nbformat": 4,
 "nbformat_minor": 2
}
